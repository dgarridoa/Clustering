{
 "cells": [
  {
   "cell_type": "markdown",
   "metadata": {},
   "source": [
    "## Integrantes\n",
    "\n",
    "1. \n",
    "2. \n",
    "3. \n",
    "4. "
   ]
  },
  {
   "cell_type": "markdown",
   "metadata": {},
   "source": [
    "# Instrucciones\n",
    "\n",
    "El laboratorio tiene 6ptos, donde obtener 6 ptos equivale a un 7.0 y 0 ptos a un 1.0. El formato de entrega será subir a u-cursos un **único** jupyter notebook por grupo.\n",
    "El notebook debe ejecutar desde la primera celda a la última **sin errores**. Todo el código debe estar en el mismo notebook. El código debe estar en un formato **presentable** y **ejecutado**.\n",
    "\n",
    "\n",
    "**Nota:** Se descontará puntaje si adjunta gráficos sin descripción. Para esto puede añadir una descripción en los atributos xlabel, ylabel y título; o añadir una celda markdown debajo del gráfico de la forma \"**Figura x:** descripción detallada...\"."
   ]
  },
  {
   "cell_type": "markdown",
   "metadata": {
    "colab_type": "text",
    "id": "wGlApIV7F9wJ"
   },
   "source": [
    "# Problema\n",
    "\n",
    "Una institución financiera tradicional le interesa caracterizar a los clientes que han contraído un crédito con el objetivo de ofrecer productos específicos a cada grupo. Para lo anterior cuenta con los siguientes datos:\n",
    "\n",
    "|**Variable**|**Descripción**|\n",
    "|--|--|\n",
    "|`CUSTOMER_ID`|identificador único del cliente|\n",
    "|`AGE`|edad del cliente al contraer el crédito|\n",
    "|`EDUCATION`|nivel educacional  que declara el cliente al momento de solicitar el crédito|\n",
    "|`NATIONALITY`|nacionalidad del cliente|\n",
    "|`YRS_WORK`|número de años trabajando e la empresa que declara el cliente al momento de solicitar el crédito|\n",
    "|`YRS_ADDRESS`|número de años viviendo en la misma morada al momento de solicitar el crédito|\n",
    "|`INCOME`|ingreso en miles de dólares americanos|\n",
    "|`DEBT_INCOME`|deuda en consumo en miles de dólares americanos|\n",
    "|`CREDIT_DEBT`| deuda en tarjetas de credito en miles de dólares americanos|\n",
    "|`OTHER_DEBT`|otras deudas en miles de dólares americanos|"
   ]
  },
  {
   "cell_type": "code",
   "execution_count": 80,
   "metadata": {},
   "outputs": [],
   "source": [
    "import pandas as pd"
   ]
  },
  {
   "cell_type": "code",
   "execution_count": 82,
   "metadata": {},
   "outputs": [
    {
     "data": {
      "text/html": [
       "<div>\n",
       "<style scoped>\n",
       "    .dataframe tbody tr th:only-of-type {\n",
       "        vertical-align: middle;\n",
       "    }\n",
       "\n",
       "    .dataframe tbody tr th {\n",
       "        vertical-align: top;\n",
       "    }\n",
       "\n",
       "    .dataframe thead th {\n",
       "        text-align: right;\n",
       "    }\n",
       "</style>\n",
       "<table border=\"1\" class=\"dataframe\">\n",
       "  <thead>\n",
       "    <tr style=\"text-align: right;\">\n",
       "      <th></th>\n",
       "      <th>CUSTOMER_ID</th>\n",
       "      <th>AGE</th>\n",
       "      <th>EDUCATION</th>\n",
       "      <th>NATIONALITY</th>\n",
       "      <th>YRS_WORK</th>\n",
       "      <th>YRS_ADDRESS</th>\n",
       "      <th>INCOME</th>\n",
       "      <th>DEBT_INCOME</th>\n",
       "      <th>CREDIT_DEBT</th>\n",
       "      <th>OTHER_DEBT</th>\n",
       "    </tr>\n",
       "  </thead>\n",
       "  <tbody>\n",
       "    <tr>\n",
       "      <th>0</th>\n",
       "      <td>10012</td>\n",
       "      <td>28.0</td>\n",
       "      <td>Media</td>\n",
       "      <td>Chilean</td>\n",
       "      <td>7</td>\n",
       "      <td>2.0</td>\n",
       "      <td>44.0</td>\n",
       "      <td>17.7</td>\n",
       "      <td>2.99</td>\n",
       "      <td>4.80</td>\n",
       "    </tr>\n",
       "    <tr>\n",
       "      <th>1</th>\n",
       "      <td>10017</td>\n",
       "      <td>64.0</td>\n",
       "      <td>Postgrado</td>\n",
       "      <td>Chilean</td>\n",
       "      <td>34</td>\n",
       "      <td>17.0</td>\n",
       "      <td>116.0</td>\n",
       "      <td>14.7</td>\n",
       "      <td>5.05</td>\n",
       "      <td>12.00</td>\n",
       "    </tr>\n",
       "    <tr>\n",
       "      <th>2</th>\n",
       "      <td>10030</td>\n",
       "      <td>40.0</td>\n",
       "      <td>Básica</td>\n",
       "      <td>Chilean</td>\n",
       "      <td>20</td>\n",
       "      <td>12.0</td>\n",
       "      <td>61.0</td>\n",
       "      <td>4.8</td>\n",
       "      <td>1.04</td>\n",
       "      <td>1.89</td>\n",
       "    </tr>\n",
       "    <tr>\n",
       "      <th>3</th>\n",
       "      <td>10039</td>\n",
       "      <td>30.0</td>\n",
       "      <td>Básica</td>\n",
       "      <td>Chilean</td>\n",
       "      <td>11</td>\n",
       "      <td>3.0</td>\n",
       "      <td>27.0</td>\n",
       "      <td>34.5</td>\n",
       "      <td>1.75</td>\n",
       "      <td>7.56</td>\n",
       "    </tr>\n",
       "    <tr>\n",
       "      <th>4</th>\n",
       "      <td>10069</td>\n",
       "      <td>25.0</td>\n",
       "      <td>Básica</td>\n",
       "      <td>Chilean</td>\n",
       "      <td>2</td>\n",
       "      <td>2.0</td>\n",
       "      <td>30.0</td>\n",
       "      <td>22.4</td>\n",
       "      <td>0.76</td>\n",
       "      <td>5.96</td>\n",
       "    </tr>\n",
       "  </tbody>\n",
       "</table>\n",
       "</div>"
      ],
      "text/plain": [
       "   CUSTOMER_ID   AGE  EDUCATION NATIONALITY  YRS_WORK  YRS_ADDRESS  INCOME  \\\n",
       "0        10012  28.0      Media     Chilean         7          2.0    44.0   \n",
       "1        10017  64.0  Postgrado     Chilean        34         17.0   116.0   \n",
       "2        10030  40.0     Básica     Chilean        20         12.0    61.0   \n",
       "3        10039  30.0     Básica     Chilean        11          3.0    27.0   \n",
       "4        10069  25.0     Básica     Chilean         2          2.0    30.0   \n",
       "\n",
       "   DEBT_INCOME  CREDIT_DEBT  OTHER_DEBT  \n",
       "0         17.7         2.99        4.80  \n",
       "1         14.7         5.05       12.00  \n",
       "2          4.8         1.04        1.89  \n",
       "3         34.5         1.75        7.56  \n",
       "4         22.4         0.76        5.96  "
      ]
     },
     "execution_count": 82,
     "metadata": {},
     "output_type": "execute_result"
    }
   ],
   "source": [
    "df = pd.read_csv(\"bankloan.csv\", sep=\"|\")\n",
    "df.head()"
   ]
  },
  {
   "cell_type": "markdown",
   "metadata": {},
   "source": [
    "# A. Preparación (3 ptos)\n",
    "\n",
    "El objetivo de esta sección es comprender y preprocesar los datos previo a la utilización de algoritmos de clustering. "
   ]
  },
  {
   "cell_type": "markdown",
   "metadata": {},
   "source": [
    "## A.1. Análisis exploratorio (1.5ptos)\n",
    "\n",
    "Realice un análisis exploratorio de los datos (cantidad de registros, medias, medianas, missing values, etc) y muestre al menos 2 gráficos de variables que considere relevantes para el análisis.\n",
    "\n",
    "**Nota**: Si solo muestra resultados y no realiza un análisis relevante de estos se dará **0 ptos**."
   ]
  },
  {
   "cell_type": "code",
   "execution_count": null,
   "metadata": {},
   "outputs": [],
   "source": []
  },
  {
   "cell_type": "markdown",
   "metadata": {},
   "source": [
    "## A.2. Limpieza de los datos (1.5ptos)\n",
    "\n",
    "Cree una base de datos consistente para la utilización de algoritmos de clustering. Esto significa realizar `tratamiento de valores pérdidos, tratamiento de valores anómalos, transformaciones y selección de características`. Debe claramente expresar las **features** que utilizará para hacer clustering, las cuales deben ser **al menos 3**. **Justifique** las variables escogidas apoyándose en el análisis exploratorio del punto anterior.\n",
    "\n",
    "**Nota**: Debe justificar cada acción realizada (o no realizada, ej: decidí no imputar por x razón) sobre los datos, sino las justifica se dara **0 ptos**."
   ]
  },
  {
   "cell_type": "code",
   "execution_count": null,
   "metadata": {},
   "outputs": [],
   "source": []
  },
  {
   "cell_type": "markdown",
   "metadata": {},
   "source": [
    "# B. Clustering (3 ptos)"
   ]
  },
  {
   "cell_type": "markdown",
   "metadata": {},
   "source": [
    "## B.1 K-means: Encontrar el número \"óptimo\" de clusters. (1 pto)\n",
    "\n",
    "Utilice el algoritmo K-Means para diferentes números de clusters ($K$), en particular, para $K\\in {2, \\ldots, 10}$. Luego, en base a alguna métrica encuentre el número **\"adecuado\"** de clusters (**$K^{*}$**).\n",
    "\n",
    "**Nota:** Debe justificar la elección de la métrica, sino se dará **0 ptos**."
   ]
  },
  {
   "cell_type": "code",
   "execution_count": null,
   "metadata": {},
   "outputs": [],
   "source": []
  },
  {
   "cell_type": "markdown",
   "metadata": {},
   "source": [
    "## B.2 K-means: Interpretación de los clusters. (1 pto)\n",
    "\n",
    "Interprete los clusters de la configuración **\"óptima\"** del punto anterior. Para apoyar su análisis puede usar estadísticas descriptivas de los clusters como visualizaciones.\n",
    "\n",
    "**Nota:** Se dará **0 ptos** si solo muestra resultados y no hace ningún análisis."
   ]
  },
  {
   "cell_type": "code",
   "execution_count": null,
   "metadata": {},
   "outputs": [],
   "source": []
  },
  {
   "cell_type": "markdown",
   "metadata": {},
   "source": [
    "## B.3 Clustering jerárquico. (1 pto) \n",
    "\n",
    "En esta sección implementará clustering jerárquico aglomerativo. Fije el úmbral de corte de manera que el número de clusters obtenido es igual a $K^{*}$. Luego, interprete los cluster obtenido y comparelos con los obtenidos por K-means.\n",
    "\n",
    "\n",
    "**Nota:** Se dará 0 ptos si solo muestra resultados y no hace ningún análisis."
   ]
  },
  {
   "cell_type": "code",
   "execution_count": null,
   "metadata": {},
   "outputs": [],
   "source": []
  }
 ],
 "metadata": {
  "colab": {
   "collapsed_sections": [],
   "name": "Laboratorio 4: Clustering.ipynb",
   "provenance": [],
   "version": "0.3.2"
  },
  "kernelspec": {
   "display_name": "Python 3",
   "language": "python",
   "name": "python3"
  },
  "language_info": {
   "codemirror_mode": {
    "name": "ipython",
    "version": 3
   },
   "file_extension": ".py",
   "mimetype": "text/x-python",
   "name": "python",
   "nbconvert_exporter": "python",
   "pygments_lexer": "ipython3",
   "version": "3.7.4"
  },
  "latex_envs": {
   "LaTeX_envs_menu_present": true,
   "autoclose": false,
   "autocomplete": true,
   "bibliofile": "biblio.bib",
   "cite_by": "apalike",
   "current_citInitial": 1,
   "eqLabelWithNumbers": true,
   "eqNumInitial": 1,
   "hotkeys": {
    "equation": "Ctrl-E",
    "itemize": "Ctrl-I"
   },
   "labels_anchors": false,
   "latex_user_defs": false,
   "report_style_numbering": false,
   "user_envs_cfg": false
  }
 },
 "nbformat": 4,
 "nbformat_minor": 1
}
